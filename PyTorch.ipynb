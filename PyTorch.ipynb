{
  "nbformat": 4,
  "nbformat_minor": 0,
  "metadata": {
    "colab": {
      "provenance": [],
      "gpuType": "T4",
      "authorship_tag": "ABX9TyPxKxajBJuLX0+GEgtsJi2f",
      "include_colab_link": true
    },
    "kernelspec": {
      "name": "python3",
      "display_name": "Python 3"
    },
    "language_info": {
      "name": "python"
    },
    "accelerator": "GPU"
  },
  "cells": [
    {
      "cell_type": "markdown",
      "metadata": {
        "id": "view-in-github",
        "colab_type": "text"
      },
      "source": [
        "<a href=\"https://colab.research.google.com/github/miguel1319/PyTorch-Learn/blob/main/PyTorch.ipynb\" target=\"_parent\"><img src=\"https://colab.research.google.com/assets/colab-badge.svg\" alt=\"Open In Colab\"/></a>"
      ]
    },
    {
      "cell_type": "markdown",
      "source": [
        "#This is the begining of the PyTorch lesson\n",
        "--Focusing on Neural tework and Deep Learning\n"
      ],
      "metadata": {
        "id": "Z_CIxIpAMiWE"
      }
    },
    {
      "cell_type": "code",
      "source": [
        "import torch\n",
        "import numpy as np\n",
        "#!pip list\n",
        "#https://pytorch.org/docs/stable/index.html"
      ],
      "metadata": {
        "id": "m5hWizdZS8eT"
      },
      "execution_count": null,
      "outputs": []
    },
    {
      "cell_type": "code",
      "source": [
        "print(\"lets add this to Git Hub\")"
      ],
      "metadata": {
        "colab": {
          "base_uri": "https://localhost:8080/"
        },
        "id": "5zcwbV6KVWrP",
        "outputId": "dfb44d7c-e07b-412a-f8f1-52cda41f794a"
      },
      "execution_count": null,
      "outputs": [
        {
          "output_type": "stream",
          "name": "stdout",
          "text": [
            "lets add this ti Git Hub\n"
          ]
        }
      ]
    },
    {
      "cell_type": "markdown",
      "source": [
        "#Tensors\n",
        "Similar to a n-dimensional matrix <br>\n",
        "lists < numpyarray < tensor <br>\n",
        "review to start with torch regarding reshape, slice, arithmetic operations."
      ],
      "metadata": {
        "id": "k26cmOvlWDfB"
      }
    },
    {
      "cell_type": "code",
      "source": [
        "my_arr = [[7,6,5],[4,5,7]]\n",
        "np1 = np.random.rand(2,3)\n",
        "print(np1,np1.dtype,\"\\n\")\n",
        "tensor1 = torch.zeros(3,4,7)\n",
        "print(tensor1,tensor1.dtype,\"\\n\")\n"
      ],
      "metadata": {
        "colab": {
          "base_uri": "https://localhost:8080/"
        },
        "id": "G2BHA8frWm3C",
        "outputId": "58d0fbd7-7cff-4444-aa27-f062de20e6fd"
      },
      "execution_count": null,
      "outputs": [
        {
          "output_type": "stream",
          "name": "stdout",
          "text": [
            "[[0.98916716 0.71527171 0.77899185]\n",
            " [0.94611903 0.24972971 0.30953592]] float64 \n",
            "\n",
            "tensor([[[0., 0., 0., 0., 0., 0., 0.],\n",
            "         [0., 0., 0., 0., 0., 0., 0.],\n",
            "         [0., 0., 0., 0., 0., 0., 0.],\n",
            "         [0., 0., 0., 0., 0., 0., 0.]],\n",
            "\n",
            "        [[0., 0., 0., 0., 0., 0., 0.],\n",
            "         [0., 0., 0., 0., 0., 0., 0.],\n",
            "         [0., 0., 0., 0., 0., 0., 0.],\n",
            "         [0., 0., 0., 0., 0., 0., 0.]],\n",
            "\n",
            "        [[0., 0., 0., 0., 0., 0., 0.],\n",
            "         [0., 0., 0., 0., 0., 0., 0.],\n",
            "         [0., 0., 0., 0., 0., 0., 0.],\n",
            "         [0., 0., 0., 0., 0., 0., 0.]]]) torch.float32 \n",
            "\n",
            "cpu\n"
          ]
        }
      ]
    },
    {
      "cell_type": "code",
      "source": [
        "print(torch.tensor(np1))\n",
        "print(\"\\n\",tensor1.device)"
      ],
      "metadata": {
        "colab": {
          "base_uri": "https://localhost:8080/"
        },
        "id": "0tf-J46Yc0ko",
        "outputId": "2a3b460e-5333-4ed4-f15d-0a94e6909e64"
      },
      "execution_count": null,
      "outputs": [
        {
          "output_type": "stream",
          "name": "stdout",
          "text": [
            "tensor([[0.9892, 0.7153, 0.7790],\n",
            "        [0.9461, 0.2497, 0.3095]], dtype=torch.float64)\n",
            "\n",
            " cpu\n"
          ]
        }
      ]
    },
    {
      "cell_type": "code",
      "source": [
        "#reshape\n",
        "my_torch = torch.arange(10)\n",
        "print(my_torch,\"\\n\")\n",
        "my_torch = my_torch.reshape(5,2) # 10 has prime factors 2,5\n",
        "print(my_torch,\"\\n\")\n",
        "my_torch = my_torch.reshape(-1,2)# when not knowing exaclty how to divide\n",
        "print(my_torch,\"\\n\")\n",
        "my_torch = my_torch.reshape(-1,2)\n",
        "print(my_torch,\"\\n\")\n",
        "\n",
        "#slices\n",
        "my_torch = torch.arange(10)\n",
        "print(my_torch[7],\"\\n\")\n",
        "my_torch = my_torch.reshape(5,2)# reshaping to a 2d matrix\n",
        "print(my_torch[:,1],\"\\n\")#gets items without shape\n",
        "print(my_torch[:,1:],\"\\n\")#maintain shape\n"
      ],
      "metadata": {
        "colab": {
          "base_uri": "https://localhost:8080/"
        },
        "id": "VuIsu4LGdoe7",
        "outputId": "d4ab1bfc-23a1-42d6-f69d-8b82285cd06e"
      },
      "execution_count": null,
      "outputs": [
        {
          "output_type": "stream",
          "name": "stdout",
          "text": [
            "tensor([0, 1, 2, 3, 4, 5, 6, 7, 8, 9]) \n",
            "\n",
            "tensor([[0, 1],\n",
            "        [2, 3],\n",
            "        [4, 5],\n",
            "        [6, 7],\n",
            "        [8, 9]]) \n",
            "\n",
            "tensor([[0, 1],\n",
            "        [2, 3],\n",
            "        [4, 5],\n",
            "        [6, 7],\n",
            "        [8, 9]]) \n",
            "\n",
            "tensor([[0, 1],\n",
            "        [2, 3],\n",
            "        [4, 5],\n",
            "        [6, 7],\n",
            "        [8, 9]]) \n",
            "\n",
            "tensor(7) \n",
            "\n",
            "tensor([1, 3, 5, 7, 9]) \n",
            "\n",
            "tensor([[1],\n",
            "        [3],\n",
            "        [5],\n",
            "        [7],\n",
            "        [9]]) \n",
            "\n"
          ]
        }
      ]
    },
    {
      "cell_type": "code",
      "source": [
        "#math operations\n",
        "tensor_a = torch.tensor([0,2,3,4])\n",
        "tensor_b = torch.tensor([5,6,7,8])\n",
        "\n",
        "tensor_a + tensor_b\n",
        "torch.add(tensor_a, tensor_b)\n",
        "tensor_a * 9\n",
        "torch.pow(tensor_a,1)"
      ],
      "metadata": {
        "colab": {
          "base_uri": "https://localhost:8080/"
        },
        "id": "dB7Q8mQRn8PT",
        "outputId": "a1dcbb54-761b-4fc9-aedd-992b5582acdc"
      },
      "execution_count": null,
      "outputs": [
        {
          "output_type": "execute_result",
          "data": {
            "text/plain": [
              "tensor([0, 2, 3, 4])"
            ]
          },
          "metadata": {},
          "execution_count": 81
        }
      ]
    },
    {
      "cell_type": "code",
      "source": [
        "tensor_a.add(tensor_a)\n",
        "print(tensor_a)\n",
        "tensor_a.add_(tensor_a)\n",
        "print(tensor_a)"
      ],
      "metadata": {
        "colab": {
          "base_uri": "https://localhost:8080/"
        },
        "id": "AtQd5jl__-WB",
        "outputId": "b0268014-7801-426d-8983-8521c993cf8f"
      },
      "execution_count": null,
      "outputs": [
        {
          "output_type": "stream",
          "name": "stdout",
          "text": [
            "tensor([0, 2, 3, 4])\n",
            "tensor([0, 4, 6, 8])\n"
          ]
        }
      ]
    },
    {
      "cell_type": "markdown",
      "source": [
        "###Starting a Neural Network\n",
        "Input  Hiiden  Output\n"
      ],
      "metadata": {
        "id": "q5aCHmboFe_4"
      }
    },
    {
      "cell_type": "code",
      "source": [
        "import torch\n",
        "import torch.nn as nn\n",
        "import torch.nn.functional as F"
      ],
      "metadata": {
        "id": "cJtLIYKeALGk"
      },
      "execution_count": null,
      "outputs": []
    },
    {
      "cell_type": "code",
      "source": [
        "#Create a Model that inherits nn.Module\n",
        "class Model(nn.Module):\n",
        "  #input layer (4 features)\n",
        "  def __init__(self,in_features=4,h1=8,h2=9,out_features = 3):\n",
        "    super().__init__() #instanciate out nn.Model\n",
        "    self.fc1 = nn.Linear(in_features, h1)\n",
        "    self.fc2 = nn.Linear(h1,h2)\n",
        "    self.out = nn.Linear(h2, out_features)\n",
        "\n",
        "  def forward(self, x):\n",
        "    x=F.relu(self.fc1(x))\n",
        "    x = F.relu(self.fc2(x))\n",
        "    x = self.out(x)\n",
        "\n",
        "    return x\n",
        "\n",
        "\n"
      ],
      "metadata": {
        "id": "BQGlV6q5ATrD"
      },
      "execution_count": null,
      "outputs": []
    },
    {
      "cell_type": "code",
      "source": [
        "#pick random seed\n",
        "torch.manual_seed(41)\n",
        "#create instance of a model\n",
        "model = Model()\n"
      ],
      "metadata": {
        "id": "R46fRFdtN492"
      },
      "execution_count": null,
      "outputs": []
    }
  ]
}